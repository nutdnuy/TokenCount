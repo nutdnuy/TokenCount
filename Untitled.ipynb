{
 "cells": [
  {
   "cell_type": "code",
   "execution_count": 1,
   "id": "97091b16-8d40-415a-a67d-a1d2cb08bc95",
   "metadata": {},
   "outputs": [
    {
     "name": "stderr",
     "output_type": "stream",
     "text": [
      "2024-12-17 11:15:36.434 \n",
      "  \u001b[33m\u001b[1mWarning:\u001b[0m to view this Streamlit app on a browser, run it with the following\n",
      "  command:\n",
      "\n",
      "    streamlit run /opt/anaconda3/lib/python3.12/site-packages/ipykernel_launcher.py [ARGUMENTS]\n"
     ]
    }
   ],
   "source": [
    "import streamlit as st\n",
    "import pdfplumber\n",
    "import tiktoken\n",
    "\n",
    "def extract_text_from_pdf(pdf_file):\n",
    "    \"\"\"Extract text from each page of a PDF file.\"\"\"\n",
    "    full_text = ''\n",
    "    with pdfplumber.open(pdf_file) as pdf:\n",
    "        for page_number, page in enumerate(pdf.pages, start=1):\n",
    "            page_text = page.extract_text()\n",
    "            if page_text:\n",
    "                full_text += f'\\n--- Page {page_number} ---\\n'\n",
    "                full_text += page_text + '\\n'\n",
    "    return full_text\n",
    "\n",
    "def num_tokens_from_string(string: str, encoding_name: str = \"cl100k_base\") -> int:\n",
    "    \"\"\"Count the number of tokens in the given string.\"\"\"\n",
    "    encoding = tiktoken.get_encoding(encoding_name)\n",
    "    num_tokens = len(encoding.encode(string))\n",
    "    return num_tokens\n",
    "\n",
    "# Title of the app\n",
    "st.title(\"📄 PDF to Text Extractor with Token Counter\")\n",
    "\n",
    "# Upload PDF file\n",
    "uploaded_pdf = st.file_uploader(\"Upload your PDF file here\", type=[\"pdf\"])\n",
    "\n",
    "if uploaded_pdf:\n",
    "    st.subheader(\"📋 Extracted Text from PDF\")\n",
    "    \n",
    "    # Extract the text from the uploaded PDF\n",
    "    extracted_text = extract_text_from_pdf(uploaded_pdf)\n",
    "    \n",
    "    if extracted_text:\n",
    "        # Count the tokens in the extracted text\n",
    "        token_count = num_tokens_from_string(extracted_text)\n",
    "        \n",
    "        # Display the extracted text\n",
    "        st.text_area(\"Extracted Text\", extracted_text, height=400)\n",
    "        \n",
    "        # Display token count\n",
    "        st.metric(label=\"📏 Total Tokens\", value=f\"{token_count} tokens\")\n",
    "        \n",
    "        # Download option for the extracted text\n",
    "        st.download_button(\n",
    "            label=\"💾 Download Extracted Text\",\n",
    "            data=extracted_text,\n",
    "            file_name='extracted_text.txt',\n",
    "            mime='text/plain'\n",
    "        )\n",
    "    else:\n",
    "        st.warning(\"No text could be extracted from this PDF.\")\n"
   ]
  },
  {
   "cell_type": "code",
   "execution_count": null,
   "id": "81802c9e-bdf0-4cb1-a2fa-d8562ff3fb31",
   "metadata": {},
   "outputs": [],
   "source": []
  }
 ],
 "metadata": {
  "kernelspec": {
   "display_name": "Python 3 (ipykernel)",
   "language": "python",
   "name": "python3"
  },
  "language_info": {
   "codemirror_mode": {
    "name": "ipython",
    "version": 3
   },
   "file_extension": ".py",
   "mimetype": "text/x-python",
   "name": "python",
   "nbconvert_exporter": "python",
   "pygments_lexer": "ipython3",
   "version": "3.12.3"
  }
 },
 "nbformat": 4,
 "nbformat_minor": 5
}
